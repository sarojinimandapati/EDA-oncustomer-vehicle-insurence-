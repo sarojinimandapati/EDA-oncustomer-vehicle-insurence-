{
 "cells": [
  {
   "cell_type": "markdown",
   "id": "4f72764f",
   "metadata": {},
   "source": [
    "### A company has customer data that contains 8 columns of customer details and another table having name customer_policy data contains the policy details of the customer."
   ]
  },
  {
   "cell_type": "code",
   "execution_count": 1,
   "id": "45c378b1",
   "metadata": {},
   "outputs": [],
   "source": [
    "import pandas as pd\n",
    "import numpy as np\n",
    "import matplotlib.pyplot as plt\n",
    "import seaborn as sb"
   ]
  },
  {
   "cell_type": "markdown",
   "id": "32ca7731",
   "metadata": {},
   "source": [
    "### objective: The company intends to offer some discount in premium for certain customers. To do that they ask their Data scientist team to get some information"
   ]
  },
  {
   "cell_type": "markdown",
   "id": "4100a40a",
   "metadata": {},
   "source": [
    "## 1.Preparing the data"
   ]
  },
  {
   "cell_type": "code",
   "execution_count": 2,
   "id": "1edee21e",
   "metadata": {},
   "outputs": [],
   "source": [
    "customer_data=pd.read_csv(\"customer_details.csv\")\n",
    "customer_policy_data=pd.read_csv(\"customer_policy_details.csv\")"
   ]
  },
  {
   "cell_type": "markdown",
   "id": "53474a5e",
   "metadata": {},
   "source": [
    "* Naming the data columns to improve the readability of the dataset"
   ]
  },
  {
   "cell_type": "code",
   "execution_count": 3,
   "id": "5abede7b",
   "metadata": {},
   "outputs": [
    {
     "data": {
      "text/html": [
       "<div>\n",
       "<style scoped>\n",
       "    .dataframe tbody tr th:only-of-type {\n",
       "        vertical-align: middle;\n",
       "    }\n",
       "\n",
       "    .dataframe tbody tr th {\n",
       "        vertical-align: top;\n",
       "    }\n",
       "\n",
       "    .dataframe thead th {\n",
       "        text-align: right;\n",
       "    }\n",
       "</style>\n",
       "<table border=\"1\" class=\"dataframe\">\n",
       "  <thead>\n",
       "    <tr style=\"text-align: right;\">\n",
       "      <th></th>\n",
       "      <th>Customer_id</th>\n",
       "      <th>Gender</th>\n",
       "      <th>Age</th>\n",
       "      <th>Driving_licence_present</th>\n",
       "      <th>Region_code</th>\n",
       "      <th>Previously_insured</th>\n",
       "      <th>Vehicle_age</th>\n",
       "      <th>Vehicle_damage</th>\n",
       "    </tr>\n",
       "  </thead>\n",
       "  <tbody>\n",
       "    <tr>\n",
       "      <th>0</th>\n",
       "      <td>1.0</td>\n",
       "      <td>Male</td>\n",
       "      <td>44.0</td>\n",
       "      <td>1.0</td>\n",
       "      <td>28.0</td>\n",
       "      <td>0.0</td>\n",
       "      <td>&gt; 2 Years</td>\n",
       "      <td>Yes</td>\n",
       "    </tr>\n",
       "    <tr>\n",
       "      <th>1</th>\n",
       "      <td>2.0</td>\n",
       "      <td>Male</td>\n",
       "      <td>76.0</td>\n",
       "      <td>1.0</td>\n",
       "      <td>3.0</td>\n",
       "      <td>0.0</td>\n",
       "      <td>1-2 Year</td>\n",
       "      <td>No</td>\n",
       "    </tr>\n",
       "    <tr>\n",
       "      <th>2</th>\n",
       "      <td>3.0</td>\n",
       "      <td>Male</td>\n",
       "      <td>47.0</td>\n",
       "      <td>1.0</td>\n",
       "      <td>28.0</td>\n",
       "      <td>0.0</td>\n",
       "      <td>&gt; 2 Years</td>\n",
       "      <td>Yes</td>\n",
       "    </tr>\n",
       "    <tr>\n",
       "      <th>3</th>\n",
       "      <td>4.0</td>\n",
       "      <td>Male</td>\n",
       "      <td>21.0</td>\n",
       "      <td>1.0</td>\n",
       "      <td>11.0</td>\n",
       "      <td>1.0</td>\n",
       "      <td>&lt; 1 Year</td>\n",
       "      <td>No</td>\n",
       "    </tr>\n",
       "    <tr>\n",
       "      <th>4</th>\n",
       "      <td>5.0</td>\n",
       "      <td>Female</td>\n",
       "      <td>29.0</td>\n",
       "      <td>1.0</td>\n",
       "      <td>41.0</td>\n",
       "      <td>1.0</td>\n",
       "      <td>&lt; 1 Year</td>\n",
       "      <td>No</td>\n",
       "    </tr>\n",
       "    <tr>\n",
       "      <th>...</th>\n",
       "      <td>...</td>\n",
       "      <td>...</td>\n",
       "      <td>...</td>\n",
       "      <td>...</td>\n",
       "      <td>...</td>\n",
       "      <td>...</td>\n",
       "      <td>...</td>\n",
       "      <td>...</td>\n",
       "    </tr>\n",
       "    <tr>\n",
       "      <th>381104</th>\n",
       "      <td>381105.0</td>\n",
       "      <td>Male</td>\n",
       "      <td>74.0</td>\n",
       "      <td>1.0</td>\n",
       "      <td>26.0</td>\n",
       "      <td>1.0</td>\n",
       "      <td>1-2 Year</td>\n",
       "      <td>No</td>\n",
       "    </tr>\n",
       "    <tr>\n",
       "      <th>381105</th>\n",
       "      <td>381106.0</td>\n",
       "      <td>Male</td>\n",
       "      <td>30.0</td>\n",
       "      <td>1.0</td>\n",
       "      <td>37.0</td>\n",
       "      <td>1.0</td>\n",
       "      <td>&lt; 1 Year</td>\n",
       "      <td>No</td>\n",
       "    </tr>\n",
       "    <tr>\n",
       "      <th>381106</th>\n",
       "      <td>381107.0</td>\n",
       "      <td>Male</td>\n",
       "      <td>21.0</td>\n",
       "      <td>1.0</td>\n",
       "      <td>30.0</td>\n",
       "      <td>1.0</td>\n",
       "      <td>&lt; 1 Year</td>\n",
       "      <td>No</td>\n",
       "    </tr>\n",
       "    <tr>\n",
       "      <th>381107</th>\n",
       "      <td>381108.0</td>\n",
       "      <td>Female</td>\n",
       "      <td>68.0</td>\n",
       "      <td>1.0</td>\n",
       "      <td>14.0</td>\n",
       "      <td>0.0</td>\n",
       "      <td>&gt; 2 Years</td>\n",
       "      <td>Yes</td>\n",
       "    </tr>\n",
       "    <tr>\n",
       "      <th>381108</th>\n",
       "      <td>381109.0</td>\n",
       "      <td>Male</td>\n",
       "      <td>46.0</td>\n",
       "      <td>1.0</td>\n",
       "      <td>29.0</td>\n",
       "      <td>0.0</td>\n",
       "      <td>1-2 Year</td>\n",
       "      <td>No</td>\n",
       "    </tr>\n",
       "  </tbody>\n",
       "</table>\n",
       "<p>381109 rows × 8 columns</p>\n",
       "</div>"
      ],
      "text/plain": [
       "        Customer_id  Gender   Age  Driving_licence_present  Region_code  \\\n",
       "0               1.0    Male  44.0                      1.0         28.0   \n",
       "1               2.0    Male  76.0                      1.0          3.0   \n",
       "2               3.0    Male  47.0                      1.0         28.0   \n",
       "3               4.0    Male  21.0                      1.0         11.0   \n",
       "4               5.0  Female  29.0                      1.0         41.0   \n",
       "...             ...     ...   ...                      ...          ...   \n",
       "381104     381105.0    Male  74.0                      1.0         26.0   \n",
       "381105     381106.0    Male  30.0                      1.0         37.0   \n",
       "381106     381107.0    Male  21.0                      1.0         30.0   \n",
       "381107     381108.0  Female  68.0                      1.0         14.0   \n",
       "381108     381109.0    Male  46.0                      1.0         29.0   \n",
       "\n",
       "        Previously_insured Vehicle_age Vehicle_damage  \n",
       "0                      0.0   > 2 Years            Yes  \n",
       "1                      0.0    1-2 Year             No  \n",
       "2                      0.0   > 2 Years            Yes  \n",
       "3                      1.0    < 1 Year             No  \n",
       "4                      1.0    < 1 Year             No  \n",
       "...                    ...         ...            ...  \n",
       "381104                 1.0    1-2 Year             No  \n",
       "381105                 1.0    < 1 Year             No  \n",
       "381106                 1.0    < 1 Year             No  \n",
       "381107                 0.0   > 2 Years            Yes  \n",
       "381108                 0.0    1-2 Year             No  \n",
       "\n",
       "[381109 rows x 8 columns]"
      ]
     },
     "execution_count": 3,
     "metadata": {},
     "output_type": "execute_result"
    }
   ],
   "source": [
    "customer_data.rename({'0':'Customer_id','1':'Gender','2':'Age','3':'Driving_licence_present','4':'Region_code',\n",
    "                      '5':'Previously_insured', \n",
    "                       '6':'Vehicle_age','7':'Vehicle_damage'},axis=1,inplace=True)\n",
    "customer_data"
   ]
  },
  {
   "cell_type": "code",
   "execution_count": 4,
   "id": "3de903cf",
   "metadata": {},
   "outputs": [
    {
     "data": {
      "text/html": [
       "<div>\n",
       "<style scoped>\n",
       "    .dataframe tbody tr th:only-of-type {\n",
       "        vertical-align: middle;\n",
       "    }\n",
       "\n",
       "    .dataframe tbody tr th {\n",
       "        vertical-align: top;\n",
       "    }\n",
       "\n",
       "    .dataframe thead th {\n",
       "        text-align: right;\n",
       "    }\n",
       "</style>\n",
       "<table border=\"1\" class=\"dataframe\">\n",
       "  <thead>\n",
       "    <tr style=\"text-align: right;\">\n",
       "      <th></th>\n",
       "      <th>Customer_id</th>\n",
       "      <th>Gender</th>\n",
       "      <th>Age</th>\n",
       "      <th>Driving_licence_present</th>\n",
       "      <th>Region_code</th>\n",
       "      <th>Previously_insured</th>\n",
       "      <th>Vehicle_age</th>\n",
       "      <th>Vehicle_damage</th>\n",
       "    </tr>\n",
       "  </thead>\n",
       "  <tbody>\n",
       "    <tr>\n",
       "      <th>0</th>\n",
       "      <td>1.0</td>\n",
       "      <td>Male</td>\n",
       "      <td>44.0</td>\n",
       "      <td>Yes</td>\n",
       "      <td>28.0</td>\n",
       "      <td>No</td>\n",
       "      <td>&gt; 2 Years</td>\n",
       "      <td>Yes</td>\n",
       "    </tr>\n",
       "    <tr>\n",
       "      <th>1</th>\n",
       "      <td>2.0</td>\n",
       "      <td>Male</td>\n",
       "      <td>76.0</td>\n",
       "      <td>Yes</td>\n",
       "      <td>3.0</td>\n",
       "      <td>No</td>\n",
       "      <td>1-2 Year</td>\n",
       "      <td>No</td>\n",
       "    </tr>\n",
       "    <tr>\n",
       "      <th>2</th>\n",
       "      <td>3.0</td>\n",
       "      <td>Male</td>\n",
       "      <td>47.0</td>\n",
       "      <td>Yes</td>\n",
       "      <td>28.0</td>\n",
       "      <td>No</td>\n",
       "      <td>&gt; 2 Years</td>\n",
       "      <td>Yes</td>\n",
       "    </tr>\n",
       "    <tr>\n",
       "      <th>3</th>\n",
       "      <td>4.0</td>\n",
       "      <td>Male</td>\n",
       "      <td>21.0</td>\n",
       "      <td>Yes</td>\n",
       "      <td>11.0</td>\n",
       "      <td>Yes</td>\n",
       "      <td>&lt; 1 Year</td>\n",
       "      <td>No</td>\n",
       "    </tr>\n",
       "    <tr>\n",
       "      <th>4</th>\n",
       "      <td>5.0</td>\n",
       "      <td>Female</td>\n",
       "      <td>29.0</td>\n",
       "      <td>Yes</td>\n",
       "      <td>41.0</td>\n",
       "      <td>Yes</td>\n",
       "      <td>&lt; 1 Year</td>\n",
       "      <td>No</td>\n",
       "    </tr>\n",
       "    <tr>\n",
       "      <th>...</th>\n",
       "      <td>...</td>\n",
       "      <td>...</td>\n",
       "      <td>...</td>\n",
       "      <td>...</td>\n",
       "      <td>...</td>\n",
       "      <td>...</td>\n",
       "      <td>...</td>\n",
       "      <td>...</td>\n",
       "    </tr>\n",
       "    <tr>\n",
       "      <th>381104</th>\n",
       "      <td>381105.0</td>\n",
       "      <td>Male</td>\n",
       "      <td>74.0</td>\n",
       "      <td>Yes</td>\n",
       "      <td>26.0</td>\n",
       "      <td>Yes</td>\n",
       "      <td>1-2 Year</td>\n",
       "      <td>No</td>\n",
       "    </tr>\n",
       "    <tr>\n",
       "      <th>381105</th>\n",
       "      <td>381106.0</td>\n",
       "      <td>Male</td>\n",
       "      <td>30.0</td>\n",
       "      <td>Yes</td>\n",
       "      <td>37.0</td>\n",
       "      <td>Yes</td>\n",
       "      <td>&lt; 1 Year</td>\n",
       "      <td>No</td>\n",
       "    </tr>\n",
       "    <tr>\n",
       "      <th>381106</th>\n",
       "      <td>381107.0</td>\n",
       "      <td>Male</td>\n",
       "      <td>21.0</td>\n",
       "      <td>Yes</td>\n",
       "      <td>30.0</td>\n",
       "      <td>Yes</td>\n",
       "      <td>&lt; 1 Year</td>\n",
       "      <td>No</td>\n",
       "    </tr>\n",
       "    <tr>\n",
       "      <th>381107</th>\n",
       "      <td>381108.0</td>\n",
       "      <td>Female</td>\n",
       "      <td>68.0</td>\n",
       "      <td>Yes</td>\n",
       "      <td>14.0</td>\n",
       "      <td>No</td>\n",
       "      <td>&gt; 2 Years</td>\n",
       "      <td>Yes</td>\n",
       "    </tr>\n",
       "    <tr>\n",
       "      <th>381108</th>\n",
       "      <td>381109.0</td>\n",
       "      <td>Male</td>\n",
       "      <td>46.0</td>\n",
       "      <td>Yes</td>\n",
       "      <td>29.0</td>\n",
       "      <td>No</td>\n",
       "      <td>1-2 Year</td>\n",
       "      <td>No</td>\n",
       "    </tr>\n",
       "  </tbody>\n",
       "</table>\n",
       "<p>381109 rows × 8 columns</p>\n",
       "</div>"
      ],
      "text/plain": [
       "        Customer_id  Gender   Age Driving_licence_present  Region_code  \\\n",
       "0               1.0    Male  44.0                     Yes         28.0   \n",
       "1               2.0    Male  76.0                     Yes          3.0   \n",
       "2               3.0    Male  47.0                     Yes         28.0   \n",
       "3               4.0    Male  21.0                     Yes         11.0   \n",
       "4               5.0  Female  29.0                     Yes         41.0   \n",
       "...             ...     ...   ...                     ...          ...   \n",
       "381104     381105.0    Male  74.0                     Yes         26.0   \n",
       "381105     381106.0    Male  30.0                     Yes         37.0   \n",
       "381106     381107.0    Male  21.0                     Yes         30.0   \n",
       "381107     381108.0  Female  68.0                     Yes         14.0   \n",
       "381108     381109.0    Male  46.0                     Yes         29.0   \n",
       "\n",
       "       Previously_insured Vehicle_age Vehicle_damage  \n",
       "0                      No   > 2 Years            Yes  \n",
       "1                      No    1-2 Year             No  \n",
       "2                      No   > 2 Years            Yes  \n",
       "3                     Yes    < 1 Year             No  \n",
       "4                     Yes    < 1 Year             No  \n",
       "...                   ...         ...            ...  \n",
       "381104                Yes    1-2 Year             No  \n",
       "381105                Yes    < 1 Year             No  \n",
       "381106                Yes    < 1 Year             No  \n",
       "381107                 No   > 2 Years            Yes  \n",
       "381108                 No    1-2 Year             No  \n",
       "\n",
       "[381109 rows x 8 columns]"
      ]
     },
     "execution_count": 4,
     "metadata": {},
     "output_type": "execute_result"
    }
   ],
   "source": [
    "columns=['Driving_licence_present','Previously_insured']\n",
    "\n",
    "for col in columns:\n",
    "    customer_data[col].astype(object,copy=True)\n",
    "    customer_data[col].replace(1,\"Yes\",inplace=True)\n",
    "    customer_data[col].replace(0,\"No\",inplace=True)\n",
    "customer_data"
   ]
  },
  {
   "cell_type": "code",
   "execution_count": 5,
   "id": "69954482",
   "metadata": {},
   "outputs": [
    {
     "data": {
      "text/html": [
       "<div>\n",
       "<style scoped>\n",
       "    .dataframe tbody tr th:only-of-type {\n",
       "        vertical-align: middle;\n",
       "    }\n",
       "\n",
       "    .dataframe tbody tr th {\n",
       "        vertical-align: top;\n",
       "    }\n",
       "\n",
       "    .dataframe thead th {\n",
       "        text-align: right;\n",
       "    }\n",
       "</style>\n",
       "<table border=\"1\" class=\"dataframe\">\n",
       "  <thead>\n",
       "    <tr style=\"text-align: right;\">\n",
       "      <th></th>\n",
       "      <th>Customer_id</th>\n",
       "      <th>Annual_premium_in_Rs</th>\n",
       "      <th>Sales_channel_code</th>\n",
       "      <th>Vintage</th>\n",
       "      <th>Response</th>\n",
       "    </tr>\n",
       "  </thead>\n",
       "  <tbody>\n",
       "    <tr>\n",
       "      <th>0</th>\n",
       "      <td>1.0</td>\n",
       "      <td>40454.0</td>\n",
       "      <td>26.0</td>\n",
       "      <td>217.0</td>\n",
       "      <td>1.0</td>\n",
       "    </tr>\n",
       "    <tr>\n",
       "      <th>1</th>\n",
       "      <td>2.0</td>\n",
       "      <td>33536.0</td>\n",
       "      <td>26.0</td>\n",
       "      <td>183.0</td>\n",
       "      <td>0.0</td>\n",
       "    </tr>\n",
       "    <tr>\n",
       "      <th>2</th>\n",
       "      <td>3.0</td>\n",
       "      <td>38294.0</td>\n",
       "      <td>26.0</td>\n",
       "      <td>27.0</td>\n",
       "      <td>1.0</td>\n",
       "    </tr>\n",
       "    <tr>\n",
       "      <th>3</th>\n",
       "      <td>4.0</td>\n",
       "      <td>28619.0</td>\n",
       "      <td>152.0</td>\n",
       "      <td>203.0</td>\n",
       "      <td>0.0</td>\n",
       "    </tr>\n",
       "    <tr>\n",
       "      <th>4</th>\n",
       "      <td>5.0</td>\n",
       "      <td>27496.0</td>\n",
       "      <td>152.0</td>\n",
       "      <td>39.0</td>\n",
       "      <td>0.0</td>\n",
       "    </tr>\n",
       "    <tr>\n",
       "      <th>...</th>\n",
       "      <td>...</td>\n",
       "      <td>...</td>\n",
       "      <td>...</td>\n",
       "      <td>...</td>\n",
       "      <td>...</td>\n",
       "    </tr>\n",
       "    <tr>\n",
       "      <th>381104</th>\n",
       "      <td>381105.0</td>\n",
       "      <td>30170.0</td>\n",
       "      <td>26.0</td>\n",
       "      <td>88.0</td>\n",
       "      <td>0.0</td>\n",
       "    </tr>\n",
       "    <tr>\n",
       "      <th>381105</th>\n",
       "      <td>381106.0</td>\n",
       "      <td>40016.0</td>\n",
       "      <td>152.0</td>\n",
       "      <td>131.0</td>\n",
       "      <td>0.0</td>\n",
       "    </tr>\n",
       "    <tr>\n",
       "      <th>381106</th>\n",
       "      <td>381107.0</td>\n",
       "      <td>35118.0</td>\n",
       "      <td>160.0</td>\n",
       "      <td>161.0</td>\n",
       "      <td>0.0</td>\n",
       "    </tr>\n",
       "    <tr>\n",
       "      <th>381107</th>\n",
       "      <td>381108.0</td>\n",
       "      <td>44617.0</td>\n",
       "      <td>124.0</td>\n",
       "      <td>74.0</td>\n",
       "      <td>0.0</td>\n",
       "    </tr>\n",
       "    <tr>\n",
       "      <th>381108</th>\n",
       "      <td>381109.0</td>\n",
       "      <td>41777.0</td>\n",
       "      <td>26.0</td>\n",
       "      <td>237.0</td>\n",
       "      <td>0.0</td>\n",
       "    </tr>\n",
       "  </tbody>\n",
       "</table>\n",
       "<p>381109 rows × 5 columns</p>\n",
       "</div>"
      ],
      "text/plain": [
       "        Customer_id  Annual_premium_in_Rs  Sales_channel_code  Vintage  \\\n",
       "0               1.0               40454.0                26.0    217.0   \n",
       "1               2.0               33536.0                26.0    183.0   \n",
       "2               3.0               38294.0                26.0     27.0   \n",
       "3               4.0               28619.0               152.0    203.0   \n",
       "4               5.0               27496.0               152.0     39.0   \n",
       "...             ...                   ...                 ...      ...   \n",
       "381104     381105.0               30170.0                26.0     88.0   \n",
       "381105     381106.0               40016.0               152.0    131.0   \n",
       "381106     381107.0               35118.0               160.0    161.0   \n",
       "381107     381108.0               44617.0               124.0     74.0   \n",
       "381108     381109.0               41777.0                26.0    237.0   \n",
       "\n",
       "        Response  \n",
       "0            1.0  \n",
       "1            0.0  \n",
       "2            1.0  \n",
       "3            0.0  \n",
       "4            0.0  \n",
       "...          ...  \n",
       "381104       0.0  \n",
       "381105       0.0  \n",
       "381106       0.0  \n",
       "381107       0.0  \n",
       "381108       0.0  \n",
       "\n",
       "[381109 rows x 5 columns]"
      ]
     },
     "execution_count": 5,
     "metadata": {},
     "output_type": "execute_result"
    }
   ],
   "source": [
    "customer_policy_data.rename({'0':'Customer_id','1':'Annual_premium_in_Rs','2':'Sales_channel_code','3':'Vintage','4':'Response'},\n",
    "                   axis=1,inplace=True)\n",
    "customer_policy_data"
   ]
  },
  {
   "cell_type": "code",
   "execution_count": 6,
   "id": "72ee9acd",
   "metadata": {},
   "outputs": [
    {
     "data": {
      "text/plain": [
       "0         1.0\n",
       "1         0.0\n",
       "2         1.0\n",
       "3         0.0\n",
       "4         0.0\n",
       "         ... \n",
       "381104    0.0\n",
       "381105    0.0\n",
       "381106    0.0\n",
       "381107    0.0\n",
       "381108    0.0\n",
       "Name: Response, Length: 381109, dtype: object"
      ]
     },
     "execution_count": 6,
     "metadata": {},
     "output_type": "execute_result"
    }
   ],
   "source": [
    "customer_policy_data[\"Response\"].astype(object,copy=True)"
   ]
  },
  {
   "cell_type": "code",
   "execution_count": 7,
   "id": "34a89f92",
   "metadata": {},
   "outputs": [],
   "source": [
    "customer_policy_data[\"Response\"].replace(1.0,\"Yes\",inplace=True)\n",
    "customer_policy_data[\"Response\"].replace(0.0,\"No\",inplace=True)"
   ]
  },
  {
   "cell_type": "code",
   "execution_count": 8,
   "id": "892a9c1c",
   "metadata": {},
   "outputs": [
    {
     "data": {
      "text/html": [
       "<div>\n",
       "<style scoped>\n",
       "    .dataframe tbody tr th:only-of-type {\n",
       "        vertical-align: middle;\n",
       "    }\n",
       "\n",
       "    .dataframe tbody tr th {\n",
       "        vertical-align: top;\n",
       "    }\n",
       "\n",
       "    .dataframe thead th {\n",
       "        text-align: right;\n",
       "    }\n",
       "</style>\n",
       "<table border=\"1\" class=\"dataframe\">\n",
       "  <thead>\n",
       "    <tr style=\"text-align: right;\">\n",
       "      <th></th>\n",
       "      <th>Customer_id</th>\n",
       "      <th>Annual_premium_in_Rs</th>\n",
       "      <th>Sales_channel_code</th>\n",
       "      <th>Vintage</th>\n",
       "      <th>Response</th>\n",
       "    </tr>\n",
       "  </thead>\n",
       "  <tbody>\n",
       "    <tr>\n",
       "      <th>0</th>\n",
       "      <td>1.0</td>\n",
       "      <td>40454.0</td>\n",
       "      <td>26.0</td>\n",
       "      <td>217.0</td>\n",
       "      <td>Yes</td>\n",
       "    </tr>\n",
       "    <tr>\n",
       "      <th>1</th>\n",
       "      <td>2.0</td>\n",
       "      <td>33536.0</td>\n",
       "      <td>26.0</td>\n",
       "      <td>183.0</td>\n",
       "      <td>No</td>\n",
       "    </tr>\n",
       "    <tr>\n",
       "      <th>2</th>\n",
       "      <td>3.0</td>\n",
       "      <td>38294.0</td>\n",
       "      <td>26.0</td>\n",
       "      <td>27.0</td>\n",
       "      <td>Yes</td>\n",
       "    </tr>\n",
       "    <tr>\n",
       "      <th>3</th>\n",
       "      <td>4.0</td>\n",
       "      <td>28619.0</td>\n",
       "      <td>152.0</td>\n",
       "      <td>203.0</td>\n",
       "      <td>No</td>\n",
       "    </tr>\n",
       "    <tr>\n",
       "      <th>4</th>\n",
       "      <td>5.0</td>\n",
       "      <td>27496.0</td>\n",
       "      <td>152.0</td>\n",
       "      <td>39.0</td>\n",
       "      <td>No</td>\n",
       "    </tr>\n",
       "    <tr>\n",
       "      <th>...</th>\n",
       "      <td>...</td>\n",
       "      <td>...</td>\n",
       "      <td>...</td>\n",
       "      <td>...</td>\n",
       "      <td>...</td>\n",
       "    </tr>\n",
       "    <tr>\n",
       "      <th>381104</th>\n",
       "      <td>381105.0</td>\n",
       "      <td>30170.0</td>\n",
       "      <td>26.0</td>\n",
       "      <td>88.0</td>\n",
       "      <td>No</td>\n",
       "    </tr>\n",
       "    <tr>\n",
       "      <th>381105</th>\n",
       "      <td>381106.0</td>\n",
       "      <td>40016.0</td>\n",
       "      <td>152.0</td>\n",
       "      <td>131.0</td>\n",
       "      <td>No</td>\n",
       "    </tr>\n",
       "    <tr>\n",
       "      <th>381106</th>\n",
       "      <td>381107.0</td>\n",
       "      <td>35118.0</td>\n",
       "      <td>160.0</td>\n",
       "      <td>161.0</td>\n",
       "      <td>No</td>\n",
       "    </tr>\n",
       "    <tr>\n",
       "      <th>381107</th>\n",
       "      <td>381108.0</td>\n",
       "      <td>44617.0</td>\n",
       "      <td>124.0</td>\n",
       "      <td>74.0</td>\n",
       "      <td>No</td>\n",
       "    </tr>\n",
       "    <tr>\n",
       "      <th>381108</th>\n",
       "      <td>381109.0</td>\n",
       "      <td>41777.0</td>\n",
       "      <td>26.0</td>\n",
       "      <td>237.0</td>\n",
       "      <td>No</td>\n",
       "    </tr>\n",
       "  </tbody>\n",
       "</table>\n",
       "<p>381109 rows × 5 columns</p>\n",
       "</div>"
      ],
      "text/plain": [
       "        Customer_id  Annual_premium_in_Rs  Sales_channel_code  Vintage  \\\n",
       "0               1.0               40454.0                26.0    217.0   \n",
       "1               2.0               33536.0                26.0    183.0   \n",
       "2               3.0               38294.0                26.0     27.0   \n",
       "3               4.0               28619.0               152.0    203.0   \n",
       "4               5.0               27496.0               152.0     39.0   \n",
       "...             ...                   ...                 ...      ...   \n",
       "381104     381105.0               30170.0                26.0     88.0   \n",
       "381105     381106.0               40016.0               152.0    131.0   \n",
       "381106     381107.0               35118.0               160.0    161.0   \n",
       "381107     381108.0               44617.0               124.0     74.0   \n",
       "381108     381109.0               41777.0                26.0    237.0   \n",
       "\n",
       "       Response  \n",
       "0           Yes  \n",
       "1            No  \n",
       "2           Yes  \n",
       "3            No  \n",
       "4            No  \n",
       "...         ...  \n",
       "381104       No  \n",
       "381105       No  \n",
       "381106       No  \n",
       "381107       No  \n",
       "381108       No  \n",
       "\n",
       "[381109 rows x 5 columns]"
      ]
     },
     "execution_count": 8,
     "metadata": {},
     "output_type": "execute_result"
    }
   ],
   "source": [
    "customer_policy_data"
   ]
  },
  {
   "cell_type": "code",
   "execution_count": 9,
   "id": "5d41b9ad",
   "metadata": {},
   "outputs": [
    {
     "data": {
      "text/plain": [
       "(381109, 8)"
      ]
     },
     "execution_count": 9,
     "metadata": {},
     "output_type": "execute_result"
    }
   ],
   "source": [
    "customer_data.shape "
   ]
  },
  {
   "cell_type": "code",
   "execution_count": 10,
   "id": "706fe28c",
   "metadata": {},
   "outputs": [
    {
     "data": {
      "text/plain": [
       "(381109, 5)"
      ]
     },
     "execution_count": 10,
     "metadata": {},
     "output_type": "execute_result"
    }
   ],
   "source": [
    "customer_policy_data.shape"
   ]
  },
  {
   "cell_type": "code",
   "execution_count": 11,
   "id": "4da69a8f",
   "metadata": {},
   "outputs": [
    {
     "data": {
      "text/html": [
       "<div>\n",
       "<style scoped>\n",
       "    .dataframe tbody tr th:only-of-type {\n",
       "        vertical-align: middle;\n",
       "    }\n",
       "\n",
       "    .dataframe tbody tr th {\n",
       "        vertical-align: top;\n",
       "    }\n",
       "\n",
       "    .dataframe thead th {\n",
       "        text-align: right;\n",
       "    }\n",
       "</style>\n",
       "<table border=\"1\" class=\"dataframe\">\n",
       "  <thead>\n",
       "    <tr style=\"text-align: right;\">\n",
       "      <th></th>\n",
       "      <th>Customer_id</th>\n",
       "      <th>Age</th>\n",
       "      <th>Region_code</th>\n",
       "    </tr>\n",
       "  </thead>\n",
       "  <tbody>\n",
       "    <tr>\n",
       "      <th>count</th>\n",
       "      <td>380723.000000</td>\n",
       "      <td>380741.000000</td>\n",
       "      <td>380717.000000</td>\n",
       "    </tr>\n",
       "    <tr>\n",
       "      <th>mean</th>\n",
       "      <td>190548.776244</td>\n",
       "      <td>38.822827</td>\n",
       "      <td>26.388575</td>\n",
       "    </tr>\n",
       "    <tr>\n",
       "      <th>std</th>\n",
       "      <td>110016.805160</td>\n",
       "      <td>15.512120</td>\n",
       "      <td>13.230361</td>\n",
       "    </tr>\n",
       "    <tr>\n",
       "      <th>min</th>\n",
       "      <td>1.000000</td>\n",
       "      <td>20.000000</td>\n",
       "      <td>0.000000</td>\n",
       "    </tr>\n",
       "    <tr>\n",
       "      <th>25%</th>\n",
       "      <td>95269.500000</td>\n",
       "      <td>25.000000</td>\n",
       "      <td>15.000000</td>\n",
       "    </tr>\n",
       "    <tr>\n",
       "      <th>50%</th>\n",
       "      <td>190543.000000</td>\n",
       "      <td>36.000000</td>\n",
       "      <td>28.000000</td>\n",
       "    </tr>\n",
       "    <tr>\n",
       "      <th>75%</th>\n",
       "      <td>285822.500000</td>\n",
       "      <td>49.000000</td>\n",
       "      <td>35.000000</td>\n",
       "    </tr>\n",
       "    <tr>\n",
       "      <th>max</th>\n",
       "      <td>381109.000000</td>\n",
       "      <td>85.000000</td>\n",
       "      <td>52.000000</td>\n",
       "    </tr>\n",
       "  </tbody>\n",
       "</table>\n",
       "</div>"
      ],
      "text/plain": [
       "         Customer_id            Age    Region_code\n",
       "count  380723.000000  380741.000000  380717.000000\n",
       "mean   190548.776244      38.822827      26.388575\n",
       "std    110016.805160      15.512120      13.230361\n",
       "min         1.000000      20.000000       0.000000\n",
       "25%     95269.500000      25.000000      15.000000\n",
       "50%    190543.000000      36.000000      28.000000\n",
       "75%    285822.500000      49.000000      35.000000\n",
       "max    381109.000000      85.000000      52.000000"
      ]
     },
     "execution_count": 11,
     "metadata": {},
     "output_type": "execute_result"
    }
   ],
   "source": [
    "customer_data.describe()"
   ]
  },
  {
   "cell_type": "code",
   "execution_count": 12,
   "id": "364fe8bf",
   "metadata": {},
   "outputs": [
    {
     "data": {
      "text/html": [
       "<div>\n",
       "<style scoped>\n",
       "    .dataframe tbody tr th:only-of-type {\n",
       "        vertical-align: middle;\n",
       "    }\n",
       "\n",
       "    .dataframe tbody tr th {\n",
       "        vertical-align: top;\n",
       "    }\n",
       "\n",
       "    .dataframe thead th {\n",
       "        text-align: right;\n",
       "    }\n",
       "</style>\n",
       "<table border=\"1\" class=\"dataframe\">\n",
       "  <thead>\n",
       "    <tr style=\"text-align: right;\">\n",
       "      <th></th>\n",
       "      <th>Customer_id</th>\n",
       "      <th>Annual_premium_in_Rs</th>\n",
       "      <th>Sales_channel_code</th>\n",
       "      <th>Vintage</th>\n",
       "    </tr>\n",
       "  </thead>\n",
       "  <tbody>\n",
       "    <tr>\n",
       "      <th>count</th>\n",
       "      <td>380722.000000</td>\n",
       "      <td>380763.000000</td>\n",
       "      <td>380709.000000</td>\n",
       "      <td>380721.000000</td>\n",
       "    </tr>\n",
       "    <tr>\n",
       "      <th>mean</th>\n",
       "      <td>190547.491663</td>\n",
       "      <td>30563.700273</td>\n",
       "      <td>112.035752</td>\n",
       "      <td>154.342437</td>\n",
       "    </tr>\n",
       "    <tr>\n",
       "      <th>std</th>\n",
       "      <td>110013.824148</td>\n",
       "      <td>17200.257877</td>\n",
       "      <td>54.204942</td>\n",
       "      <td>83.669600</td>\n",
       "    </tr>\n",
       "    <tr>\n",
       "      <th>min</th>\n",
       "      <td>1.000000</td>\n",
       "      <td>2630.000000</td>\n",
       "      <td>1.000000</td>\n",
       "      <td>10.000000</td>\n",
       "    </tr>\n",
       "    <tr>\n",
       "      <th>25%</th>\n",
       "      <td>95276.250000</td>\n",
       "      <td>24406.000000</td>\n",
       "      <td>29.000000</td>\n",
       "      <td>82.000000</td>\n",
       "    </tr>\n",
       "    <tr>\n",
       "      <th>50%</th>\n",
       "      <td>190536.500000</td>\n",
       "      <td>31668.000000</td>\n",
       "      <td>133.000000</td>\n",
       "      <td>154.000000</td>\n",
       "    </tr>\n",
       "    <tr>\n",
       "      <th>75%</th>\n",
       "      <td>285818.750000</td>\n",
       "      <td>39400.000000</td>\n",
       "      <td>152.000000</td>\n",
       "      <td>227.000000</td>\n",
       "    </tr>\n",
       "    <tr>\n",
       "      <th>max</th>\n",
       "      <td>381109.000000</td>\n",
       "      <td>540165.000000</td>\n",
       "      <td>163.000000</td>\n",
       "      <td>299.000000</td>\n",
       "    </tr>\n",
       "  </tbody>\n",
       "</table>\n",
       "</div>"
      ],
      "text/plain": [
       "         Customer_id  Annual_premium_in_Rs  Sales_channel_code        Vintage\n",
       "count  380722.000000         380763.000000       380709.000000  380721.000000\n",
       "mean   190547.491663          30563.700273          112.035752     154.342437\n",
       "std    110013.824148          17200.257877           54.204942      83.669600\n",
       "min         1.000000           2630.000000            1.000000      10.000000\n",
       "25%     95276.250000          24406.000000           29.000000      82.000000\n",
       "50%    190536.500000          31668.000000          133.000000     154.000000\n",
       "75%    285818.750000          39400.000000          152.000000     227.000000\n",
       "max    381109.000000         540165.000000          163.000000     299.000000"
      ]
     },
     "execution_count": 12,
     "metadata": {},
     "output_type": "execute_result"
    }
   ],
   "source": [
    "customer_policy_data.describe()"
   ]
  },
  {
   "cell_type": "code",
   "execution_count": 13,
   "id": "25656165",
   "metadata": {},
   "outputs": [
    {
     "name": "stdout",
     "output_type": "stream",
     "text": [
      "<class 'pandas.core.frame.DataFrame'>\n",
      "RangeIndex: 381109 entries, 0 to 381108\n",
      "Data columns (total 8 columns):\n",
      " #   Column                   Non-Null Count   Dtype  \n",
      "---  ------                   --------------   -----  \n",
      " 0   Customer_id              380723 non-null  float64\n",
      " 1   Gender                   380741 non-null  object \n",
      " 2   Age                      380741 non-null  float64\n",
      " 3   Driving_licence_present  380716 non-null  object \n",
      " 4   Region_code              380717 non-null  float64\n",
      " 5   Previously_insured       380728 non-null  object \n",
      " 6   Vehicle_age              380728 non-null  object \n",
      " 7   Vehicle_damage           380702 non-null  object \n",
      "dtypes: float64(3), object(5)\n",
      "memory usage: 23.3+ MB\n"
     ]
    }
   ],
   "source": [
    "customer_data.info()"
   ]
  },
  {
   "cell_type": "code",
   "execution_count": 19,
   "id": "28f15b90",
   "metadata": {},
   "outputs": [
    {
     "name": "stdout",
     "output_type": "stream",
     "text": [
      "<class 'pandas.core.frame.DataFrame'>\n",
      "RangeIndex: 381109 entries, 0 to 381108\n",
      "Data columns (total 5 columns):\n",
      " #   Column                Non-Null Count   Dtype  \n",
      "---  ------                --------------   -----  \n",
      " 0   Customer_id           380722 non-null  float64\n",
      " 1   Annual_premium_in_Rs  380763 non-null  float64\n",
      " 2   Sales_channel_code    380709 non-null  float64\n",
      " 3   Vintage               380721 non-null  float64\n",
      " 4   Response              380748 non-null  object \n",
      "dtypes: float64(4), object(1)\n",
      "memory usage: 14.5+ MB\n"
     ]
    }
   ],
   "source": [
    "customer_policy_data.info()"
   ]
  },
  {
   "cell_type": "markdown",
   "id": "b64230c7",
   "metadata": {},
   "source": [
    "## 2.Processing and cleaning "
   ]
  },
  {
   "cell_type": "markdown",
   "id": "568f639c",
   "metadata": {},
   "source": [
    "### Checking and dealing with null values "
   ]
  },
  {
   "cell_type": "code",
   "execution_count": 20,
   "id": "7206fec1",
   "metadata": {},
   "outputs": [
    {
     "data": {
      "text/plain": [
       "Customer_id                386\n",
       "Gender                     368\n",
       "Age                        368\n",
       "Driving_licence_present    393\n",
       "Region_code                392\n",
       "Previously_insured         381\n",
       "Vehicle_age                381\n",
       "Vehicle_damage             407\n",
       "dtype: int64"
      ]
     },
     "execution_count": 20,
     "metadata": {},
     "output_type": "execute_result"
    }
   ],
   "source": [
    "customer_data.isnull().sum()"
   ]
  },
  {
   "cell_type": "code",
   "execution_count": 21,
   "id": "a0222129",
   "metadata": {},
   "outputs": [
    {
     "data": {
      "text/plain": [
       "Customer_id             387\n",
       "Annual_premium_in_Rs    346\n",
       "Sales_channel_code      400\n",
       "Vintage                 388\n",
       "Response                361\n",
       "dtype: int64"
      ]
     },
     "execution_count": 21,
     "metadata": {},
     "output_type": "execute_result"
    }
   ],
   "source": [
    "customer_policy_data.isnull().sum()"
   ]
  },
  {
   "cell_type": "markdown",
   "id": "2feda091",
   "metadata": {},
   "source": [
    "###### Dropping Null values for customer_id because central tendencies for id’s is not feasible."
   ]
  },
  {
   "cell_type": "code",
   "execution_count": 14,
   "id": "325153f5",
   "metadata": {},
   "outputs": [],
   "source": [
    "customer_data.dropna(subset=['Customer_id'],inplace=True)\n",
    "customer_policy_data.dropna(subset=['Customer_id'],inplace=True)"
   ]
  },
  {
   "cell_type": "code",
   "execution_count": 25,
   "id": "d57c2142",
   "metadata": {},
   "outputs": [
    {
     "data": {
      "text/plain": [
       "Customer_id                  0\n",
       "Gender                     368\n",
       "Age                        366\n",
       "Driving_licence_present    392\n",
       "Region_code                391\n",
       "Previously_insured         381\n",
       "Vehicle_age                381\n",
       "Vehicle_damage             406\n",
       "dtype: int64"
      ]
     },
     "execution_count": 25,
     "metadata": {},
     "output_type": "execute_result"
    }
   ],
   "source": [
    "customer_data.isna().sum()"
   ]
  },
  {
   "cell_type": "code",
   "execution_count": 23,
   "id": "66b335ed",
   "metadata": {},
   "outputs": [
    {
     "data": {
      "text/plain": [
       "(380723, 8)"
      ]
     },
     "execution_count": 23,
     "metadata": {},
     "output_type": "execute_result"
    }
   ],
   "source": [
    "customer_data.shape"
   ]
  },
  {
   "cell_type": "code",
   "execution_count": 24,
   "id": "39e6ed04",
   "metadata": {},
   "outputs": [
    {
     "data": {
      "text/plain": [
       "(380722, 5)"
      ]
     },
     "execution_count": 24,
     "metadata": {},
     "output_type": "execute_result"
    }
   ],
   "source": [
    "customer_policy_data.shape"
   ]
  },
  {
   "cell_type": "markdown",
   "id": "a7f4ce1f",
   "metadata": {},
   "source": [
    "###### Replacing all null values for numeric columns by mean. \n",
    "###### Replacing all null values for Categorical value by mode."
   ]
  },
  {
   "cell_type": "code",
   "execution_count": 16,
   "id": "f294d952",
   "metadata": {},
   "outputs": [],
   "source": [
    "for i in customer_data.columns:\n",
    "    if customer_data[i].dtype==\"object\":\n",
    "        customer_data[i]=customer_data[i].fillna(customer_data[i].mode()[0])\n",
    "    else:\n",
    "        customer_data[i]=customer_data[i].fillna(customer_data[i].mean()) \n",
    "    \n",
    "        "
   ]
  },
  {
   "cell_type": "code",
   "execution_count": 30,
   "id": "b8e09c5c",
   "metadata": {},
   "outputs": [
    {
     "data": {
      "text/plain": [
       "Customer_id                0\n",
       "Gender                     0\n",
       "Age                        0\n",
       "Driving_licence_present    0\n",
       "Region_code                0\n",
       "Previously_insured         0\n",
       "Vehicle_age                0\n",
       "Vehicle_damage             0\n",
       "dtype: int64"
      ]
     },
     "execution_count": 30,
     "metadata": {},
     "output_type": "execute_result"
    }
   ],
   "source": [
    "customer_data.isna().sum()"
   ]
  },
  {
   "cell_type": "code",
   "execution_count": 17,
   "id": "0fec1de3",
   "metadata": {},
   "outputs": [],
   "source": [
    "for i in customer_policy_data.columns:\n",
    "    if customer_policy_data[i].dtype==\"object\":\n",
    "        customer_policy_data[i]=customer_policy_data[i].fillna(customer_policy_data[i].mode()[0])\n",
    "    else:\n",
    "        customer_policy_data[i]=customer_policy_data[i].fillna(customer_policy_data[i].mean()) \n",
    "    "
   ]
  },
  {
   "cell_type": "code",
   "execution_count": 32,
   "id": "ee324221",
   "metadata": {},
   "outputs": [
    {
     "data": {
      "text/plain": [
       "Customer_id             0\n",
       "Annual_premium_in_Rs    0\n",
       "Sales_channel_code      0\n",
       "Vintage                 0\n",
       "Response                0\n",
       "dtype: int64"
      ]
     },
     "execution_count": 32,
     "metadata": {},
     "output_type": "execute_result"
    }
   ],
   "source": [
    "customer_policy_data.isna().sum()"
   ]
  },
  {
   "cell_type": "markdown",
   "id": "b763ac40",
   "metadata": {},
   "source": [
    "### Dealing with outliers"
   ]
  },
  {
   "cell_type": "code",
   "execution_count": 18,
   "id": "954a3f45",
   "metadata": {},
   "outputs": [
    {
     "name": "stderr",
     "output_type": "stream",
     "text": [
      "C:\\Users\\saroj\\AppData\\Local\\Temp/ipykernel_5092/1825105135.py:6: FutureWarning: Automatic reindexing on DataFrame vs Series comparisons is deprecated and will raise ValueError in a future version.  Do `left, right = left.align(right, axis=1, copy=False)` before e.g. `left == right`\n",
      "  outliers=((customer_data<below)|(customer_data>above)).sum()\n"
     ]
    },
    {
     "data": {
      "text/plain": [
       "Age                        0\n",
       "Customer_id                0\n",
       "Driving_licence_present    0\n",
       "Gender                     0\n",
       "Previously_insured         0\n",
       "Region_code                0\n",
       "Vehicle_age                0\n",
       "Vehicle_damage             0\n",
       "dtype: int64"
      ]
     },
     "execution_count": 18,
     "metadata": {},
     "output_type": "execute_result"
    }
   ],
   "source": [
    "Q1=customer_data.quantile(0.25)\n",
    "Q3=customer_data.quantile(0.75)\n",
    "IQR=Q3-Q1\n",
    "below=Q1-(1.5*IQR)\n",
    "above=Q3+(1.5*IQR)\n",
    "outliers=((customer_data<below)|(customer_data>above)).sum()\n",
    "outliers"
   ]
  },
  {
   "cell_type": "code",
   "execution_count": 19,
   "id": "b0be6f55",
   "metadata": {},
   "outputs": [
    {
     "name": "stderr",
     "output_type": "stream",
     "text": [
      "C:\\Users\\saroj\\AppData\\Local\\Temp/ipykernel_5092/4152090020.py:6: FutureWarning: Automatic reindexing on DataFrame vs Series comparisons is deprecated and will raise ValueError in a future version.  Do `left, right = left.align(right, axis=1, copy=False)` before e.g. `left == right`\n",
      "  outliers=((customer_policy_data<below)|(customer_policy_data>above)).sum()\n"
     ]
    },
    {
     "data": {
      "text/plain": [
       "Annual_premium_in_Rs    10332\n",
       "Customer_id                 0\n",
       "Response                    0\n",
       "Sales_channel_code          0\n",
       "Vintage                     0\n",
       "dtype: int64"
      ]
     },
     "execution_count": 19,
     "metadata": {},
     "output_type": "execute_result"
    }
   ],
   "source": [
    "Q1=customer_policy_data.quantile(0.25)\n",
    "Q3=customer_policy_data.quantile(0.75)\n",
    "IQR=Q3-Q1\n",
    "below=Q1-(1.5*IQR)\n",
    "above=Q3+(1.5*IQR)\n",
    "outliers=((customer_policy_data<below)|(customer_policy_data>above)).sum()\n",
    "outliers"
   ]
  },
  {
   "cell_type": "code",
   "execution_count": 20,
   "id": "b8f15ab6",
   "metadata": {},
   "outputs": [
    {
     "data": {
      "text/plain": [
       "<AxesSubplot:xlabel='Annual_premium_in_Rs'>"
      ]
     },
     "execution_count": 20,
     "metadata": {},
     "output_type": "execute_result"
    },
    {
     "data": {
      "image/png": "[encoded data removed]",
      "text/plain": [
       "<Figure size 432x288 with 1 Axes>"
      ]
     },
     "metadata": {
      "needs_background": "light"
     },
     "output_type": "display_data"
    }
   ],
   "source": [
    "sb.boxplot(x=customer_policy_data['Annual_premium_in_Rs'])"
   ]
  },
  {
   "cell_type": "code",
   "execution_count": 21,
   "id": "f9cc98c0",
   "metadata": {},
   "outputs": [],
   "source": [
    "def replace_outlier(df_in, col_name):\n",
    "    q1 = df_in[col_name].quantile(0.25)\n",
    "    q3 = df_in[col_name].quantile(0.75)\n",
    "    iqr = q3-q1 #Interquartile range\n",
    "    fence_low  = q1-1.5*iqr\n",
    "    fence_high = q3+1.5*iqr\n",
    "    df_out = customer_policy_data.copy()\n",
    "    outliers = df_out[col_name].between(fence_low, fence_high)\n",
    "    df_out.loc[outliers, col_name] = df_out.loc[~outliers,col_name].mean()\n",
    "    return df_out"
   ]
  },
  {
   "cell_type": "code",
   "execution_count": 22,
   "id": "7b3eb21f",
   "metadata": {},
   "outputs": [],
   "source": [
    "new_policy_data=replace_outlier(customer_policy_data,'Annual_premium_in_Rs')"
   ]
  },
  {
   "cell_type": "code",
   "execution_count": 23,
   "id": "11534176",
   "metadata": {},
   "outputs": [
    {
     "data": {
      "text/html": [
       "<div>\n",
       "<style scoped>\n",
       "    .dataframe tbody tr th:only-of-type {\n",
       "        vertical-align: middle;\n",
       "    }\n",
       "\n",
       "    .dataframe tbody tr th {\n",
       "        vertical-align: top;\n",
       "    }\n",
       "\n",
       "    .dataframe thead th {\n",
       "        text-align: right;\n",
       "    }\n",
       "</style>\n",
       "<table border=\"1\" class=\"dataframe\">\n",
       "  <thead>\n",
       "    <tr style=\"text-align: right;\">\n",
       "      <th></th>\n",
       "      <th>Customer_id</th>\n",
       "      <th>Annual_premium_in_Rs</th>\n",
       "      <th>Sales_channel_code</th>\n",
       "      <th>Vintage</th>\n",
       "      <th>Response</th>\n",
       "    </tr>\n",
       "  </thead>\n",
       "  <tbody>\n",
       "    <tr>\n",
       "      <th>0</th>\n",
       "      <td>1.0</td>\n",
       "      <td>77159.58072</td>\n",
       "      <td>26.0</td>\n",
       "      <td>217.0</td>\n",
       "      <td>Yes</td>\n",
       "    </tr>\n",
       "    <tr>\n",
       "      <th>1</th>\n",
       "      <td>2.0</td>\n",
       "      <td>77159.58072</td>\n",
       "      <td>26.0</td>\n",
       "      <td>183.0</td>\n",
       "      <td>No</td>\n",
       "    </tr>\n",
       "    <tr>\n",
       "      <th>2</th>\n",
       "      <td>3.0</td>\n",
       "      <td>77159.58072</td>\n",
       "      <td>26.0</td>\n",
       "      <td>27.0</td>\n",
       "      <td>Yes</td>\n",
       "    </tr>\n",
       "    <tr>\n",
       "      <th>3</th>\n",
       "      <td>4.0</td>\n",
       "      <td>77159.58072</td>\n",
       "      <td>152.0</td>\n",
       "      <td>203.0</td>\n",
       "      <td>No</td>\n",
       "    </tr>\n",
       "    <tr>\n",
       "      <th>4</th>\n",
       "      <td>5.0</td>\n",
       "      <td>77159.58072</td>\n",
       "      <td>152.0</td>\n",
       "      <td>39.0</td>\n",
       "      <td>No</td>\n",
       "    </tr>\n",
       "    <tr>\n",
       "      <th>...</th>\n",
       "      <td>...</td>\n",
       "      <td>...</td>\n",
       "      <td>...</td>\n",
       "      <td>...</td>\n",
       "      <td>...</td>\n",
       "    </tr>\n",
       "    <tr>\n",
       "      <th>381104</th>\n",
       "      <td>381105.0</td>\n",
       "      <td>77159.58072</td>\n",
       "      <td>26.0</td>\n",
       "      <td>88.0</td>\n",
       "      <td>No</td>\n",
       "    </tr>\n",
       "    <tr>\n",
       "      <th>381105</th>\n",
       "      <td>381106.0</td>\n",
       "      <td>77159.58072</td>\n",
       "      <td>152.0</td>\n",
       "      <td>131.0</td>\n",
       "      <td>No</td>\n",
       "    </tr>\n",
       "    <tr>\n",
       "      <th>381106</th>\n",
       "      <td>381107.0</td>\n",
       "      <td>77159.58072</td>\n",
       "      <td>160.0</td>\n",
       "      <td>161.0</td>\n",
       "      <td>No</td>\n",
       "    </tr>\n",
       "    <tr>\n",
       "      <th>381107</th>\n",
       "      <td>381108.0</td>\n",
       "      <td>77159.58072</td>\n",
       "      <td>124.0</td>\n",
       "      <td>74.0</td>\n",
       "      <td>No</td>\n",
       "    </tr>\n",
       "    <tr>\n",
       "      <th>381108</th>\n",
       "      <td>381109.0</td>\n",
       "      <td>77159.58072</td>\n",
       "      <td>26.0</td>\n",
       "      <td>237.0</td>\n",
       "      <td>No</td>\n",
       "    </tr>\n",
       "  </tbody>\n",
       "</table>\n",
       "<p>380722 rows × 5 columns</p>\n",
       "</div>"
      ],
      "text/plain": [
       "        Customer_id  Annual_premium_in_Rs  Sales_channel_code  Vintage  \\\n",
       "0               1.0           77159.58072                26.0    217.0   \n",
       "1               2.0           77159.58072                26.0    183.0   \n",
       "2               3.0           77159.58072                26.0     27.0   \n",
       "3               4.0           77159.58072               152.0    203.0   \n",
       "4               5.0           77159.58072               152.0     39.0   \n",
       "...             ...                   ...                 ...      ...   \n",
       "381104     381105.0           77159.58072                26.0     88.0   \n",
       "381105     381106.0           77159.58072               152.0    131.0   \n",
       "381106     381107.0           77159.58072               160.0    161.0   \n",
       "381107     381108.0           77159.58072               124.0     74.0   \n",
       "381108     381109.0           77159.58072                26.0    237.0   \n",
       "\n",
       "       Response  \n",
       "0           Yes  \n",
       "1            No  \n",
       "2           Yes  \n",
       "3            No  \n",
       "4            No  \n",
       "...         ...  \n",
       "381104       No  \n",
       "381105       No  \n",
       "381106       No  \n",
       "381107       No  \n",
       "381108       No  \n",
       "\n",
       "[380722 rows x 5 columns]"
      ]
     },
     "execution_count": 23,
     "metadata": {},
     "output_type": "execute_result"
    }
   ],
   "source": [
    "new_policy_data"
   ]
  },
  {
   "cell_type": "code",
   "execution_count": 24,
   "id": "bac7ae16",
   "metadata": {},
   "outputs": [],
   "source": [
    "customer_data=customer_data.apply(lambda x :x.str.strip() if x.dtype==\"object\" else x)"
   ]
  },
  {
   "cell_type": "code",
   "execution_count": 25,
   "id": "fa1b8bad",
   "metadata": {},
   "outputs": [],
   "source": [
    "customer_data=customer_data.apply(lambda x:x.str.upper() if x.dtype==\"object\" else x)"
   ]
  },
  {
   "cell_type": "code",
   "execution_count": 26,
   "id": "8d41eeea",
   "metadata": {},
   "outputs": [
    {
     "data": {
      "text/html": [
       "<div>\n",
       "<style scoped>\n",
       "    .dataframe tbody tr th:only-of-type {\n",
       "        vertical-align: middle;\n",
       "    }\n",
       "\n",
       "    .dataframe tbody tr th {\n",
       "        vertical-align: top;\n",
       "    }\n",
       "\n",
       "    .dataframe thead th {\n",
       "        text-align: right;\n",
       "    }\n",
       "</style>\n",
       "<table border=\"1\" class=\"dataframe\">\n",
       "  <thead>\n",
       "    <tr style=\"text-align: right;\">\n",
       "      <th></th>\n",
       "      <th>Customer_id</th>\n",
       "      <th>Gender</th>\n",
       "      <th>Age</th>\n",
       "      <th>Driving_licence_present</th>\n",
       "      <th>Region_code</th>\n",
       "      <th>Previously_insured</th>\n",
       "      <th>Vehicle_age</th>\n",
       "      <th>Vehicle_damage</th>\n",
       "    </tr>\n",
       "  </thead>\n",
       "  <tbody>\n",
       "    <tr>\n",
       "      <th>0</th>\n",
       "      <td>1.0</td>\n",
       "      <td>MALE</td>\n",
       "      <td>44.0</td>\n",
       "      <td>YES</td>\n",
       "      <td>28.0</td>\n",
       "      <td>NO</td>\n",
       "      <td>&gt; 2 YEARS</td>\n",
       "      <td>YES</td>\n",
       "    </tr>\n",
       "    <tr>\n",
       "      <th>1</th>\n",
       "      <td>2.0</td>\n",
       "      <td>MALE</td>\n",
       "      <td>76.0</td>\n",
       "      <td>YES</td>\n",
       "      <td>3.0</td>\n",
       "      <td>NO</td>\n",
       "      <td>1-2 YEAR</td>\n",
       "      <td>NO</td>\n",
       "    </tr>\n",
       "    <tr>\n",
       "      <th>2</th>\n",
       "      <td>3.0</td>\n",
       "      <td>MALE</td>\n",
       "      <td>47.0</td>\n",
       "      <td>YES</td>\n",
       "      <td>28.0</td>\n",
       "      <td>NO</td>\n",
       "      <td>&gt; 2 YEARS</td>\n",
       "      <td>YES</td>\n",
       "    </tr>\n",
       "    <tr>\n",
       "      <th>3</th>\n",
       "      <td>4.0</td>\n",
       "      <td>MALE</td>\n",
       "      <td>21.0</td>\n",
       "      <td>YES</td>\n",
       "      <td>11.0</td>\n",
       "      <td>YES</td>\n",
       "      <td>&lt; 1 YEAR</td>\n",
       "      <td>NO</td>\n",
       "    </tr>\n",
       "    <tr>\n",
       "      <th>4</th>\n",
       "      <td>5.0</td>\n",
       "      <td>FEMALE</td>\n",
       "      <td>29.0</td>\n",
       "      <td>YES</td>\n",
       "      <td>41.0</td>\n",
       "      <td>YES</td>\n",
       "      <td>&lt; 1 YEAR</td>\n",
       "      <td>NO</td>\n",
       "    </tr>\n",
       "    <tr>\n",
       "      <th>...</th>\n",
       "      <td>...</td>\n",
       "      <td>...</td>\n",
       "      <td>...</td>\n",
       "      <td>...</td>\n",
       "      <td>...</td>\n",
       "      <td>...</td>\n",
       "      <td>...</td>\n",
       "      <td>...</td>\n",
       "    </tr>\n",
       "    <tr>\n",
       "      <th>381104</th>\n",
       "      <td>381105.0</td>\n",
       "      <td>MALE</td>\n",
       "      <td>74.0</td>\n",
       "      <td>YES</td>\n",
       "      <td>26.0</td>\n",
       "      <td>YES</td>\n",
       "      <td>1-2 YEAR</td>\n",
       "      <td>NO</td>\n",
       "    </tr>\n",
       "    <tr>\n",
       "      <th>381105</th>\n",
       "      <td>381106.0</td>\n",
       "      <td>MALE</td>\n",
       "      <td>30.0</td>\n",
       "      <td>YES</td>\n",
       "      <td>37.0</td>\n",
       "      <td>YES</td>\n",
       "      <td>&lt; 1 YEAR</td>\n",
       "      <td>NO</td>\n",
       "    </tr>\n",
       "    <tr>\n",
       "      <th>381106</th>\n",
       "      <td>381107.0</td>\n",
       "      <td>MALE</td>\n",
       "      <td>21.0</td>\n",
       "      <td>YES</td>\n",
       "      <td>30.0</td>\n",
       "      <td>YES</td>\n",
       "      <td>&lt; 1 YEAR</td>\n",
       "      <td>NO</td>\n",
       "    </tr>\n",
       "    <tr>\n",
       "      <th>381107</th>\n",
       "      <td>381108.0</td>\n",
       "      <td>FEMALE</td>\n",
       "      <td>68.0</td>\n",
       "      <td>YES</td>\n",
       "      <td>14.0</td>\n",
       "      <td>NO</td>\n",
       "      <td>&gt; 2 YEARS</td>\n",
       "      <td>YES</td>\n",
       "    </tr>\n",
       "    <tr>\n",
       "      <th>381108</th>\n",
       "      <td>381109.0</td>\n",
       "      <td>MALE</td>\n",
       "      <td>46.0</td>\n",
       "      <td>YES</td>\n",
       "      <td>29.0</td>\n",
       "      <td>NO</td>\n",
       "      <td>1-2 YEAR</td>\n",
       "      <td>NO</td>\n",
       "    </tr>\n",
       "  </tbody>\n",
       "</table>\n",
       "<p>380723 rows × 8 columns</p>\n",
       "</div>"
      ],
      "text/plain": [
       "        Customer_id  Gender   Age Driving_licence_present  Region_code  \\\n",
       "0               1.0    MALE  44.0                     YES         28.0   \n",
       "1               2.0    MALE  76.0                     YES          3.0   \n",
       "2               3.0    MALE  47.0                     YES         28.0   \n",
       "3               4.0    MALE  21.0                     YES         11.0   \n",
       "4               5.0  FEMALE  29.0                     YES         41.0   \n",
       "...             ...     ...   ...                     ...          ...   \n",
       "381104     381105.0    MALE  74.0                     YES         26.0   \n",
       "381105     381106.0    MALE  30.0                     YES         37.0   \n",
       "381106     381107.0    MALE  21.0                     YES         30.0   \n",
       "381107     381108.0  FEMALE  68.0                     YES         14.0   \n",
       "381108     381109.0    MALE  46.0                     YES         29.0   \n",
       "\n",
       "       Previously_insured Vehicle_age Vehicle_damage  \n",
       "0                      NO   > 2 YEARS            YES  \n",
       "1                      NO    1-2 YEAR             NO  \n",
       "2                      NO   > 2 YEARS            YES  \n",
       "3                     YES    < 1 YEAR             NO  \n",
       "4                     YES    < 1 YEAR             NO  \n",
       "...                   ...         ...            ...  \n",
       "381104                YES    1-2 YEAR             NO  \n",
       "381105                YES    < 1 YEAR             NO  \n",
       "381106                YES    < 1 YEAR             NO  \n",
       "381107                 NO   > 2 YEARS            YES  \n",
       "381108                 NO    1-2 YEAR             NO  \n",
       "\n",
       "[380723 rows x 8 columns]"
      ]
     },
     "execution_count": 26,
     "metadata": {},
     "output_type": "execute_result"
    }
   ],
   "source": [
    "customer_data"
   ]
  },
  {
   "cell_type": "markdown",
   "id": "121bd30b",
   "metadata": {},
   "source": [
    "### Dealing with duplicates "
   ]
  },
  {
   "cell_type": "code",
   "execution_count": 27,
   "id": "ecd9763f",
   "metadata": {},
   "outputs": [
    {
     "data": {
      "text/html": [
       "<div>\n",
       "<style scoped>\n",
       "    .dataframe tbody tr th:only-of-type {\n",
       "        vertical-align: middle;\n",
       "    }\n",
       "\n",
       "    .dataframe tbody tr th {\n",
       "        vertical-align: top;\n",
       "    }\n",
       "\n",
       "    .dataframe thead th {\n",
       "        text-align: right;\n",
       "    }\n",
       "</style>\n",
       "<table border=\"1\" class=\"dataframe\">\n",
       "  <thead>\n",
       "    <tr style=\"text-align: right;\">\n",
       "      <th></th>\n",
       "      <th>Customer_id</th>\n",
       "      <th>Annual_premium_in_Rs</th>\n",
       "      <th>Sales_channel_code</th>\n",
       "      <th>Vintage</th>\n",
       "      <th>Response</th>\n",
       "    </tr>\n",
       "  </thead>\n",
       "  <tbody>\n",
       "    <tr>\n",
       "      <th>0</th>\n",
       "      <td>1.0</td>\n",
       "      <td>77159.58072</td>\n",
       "      <td>26.0</td>\n",
       "      <td>217.0</td>\n",
       "      <td>Yes</td>\n",
       "    </tr>\n",
       "    <tr>\n",
       "      <th>1</th>\n",
       "      <td>2.0</td>\n",
       "      <td>77159.58072</td>\n",
       "      <td>26.0</td>\n",
       "      <td>183.0</td>\n",
       "      <td>No</td>\n",
       "    </tr>\n",
       "    <tr>\n",
       "      <th>2</th>\n",
       "      <td>3.0</td>\n",
       "      <td>77159.58072</td>\n",
       "      <td>26.0</td>\n",
       "      <td>27.0</td>\n",
       "      <td>Yes</td>\n",
       "    </tr>\n",
       "    <tr>\n",
       "      <th>3</th>\n",
       "      <td>4.0</td>\n",
       "      <td>77159.58072</td>\n",
       "      <td>152.0</td>\n",
       "      <td>203.0</td>\n",
       "      <td>No</td>\n",
       "    </tr>\n",
       "    <tr>\n",
       "      <th>4</th>\n",
       "      <td>5.0</td>\n",
       "      <td>77159.58072</td>\n",
       "      <td>152.0</td>\n",
       "      <td>39.0</td>\n",
       "      <td>No</td>\n",
       "    </tr>\n",
       "    <tr>\n",
       "      <th>...</th>\n",
       "      <td>...</td>\n",
       "      <td>...</td>\n",
       "      <td>...</td>\n",
       "      <td>...</td>\n",
       "      <td>...</td>\n",
       "    </tr>\n",
       "    <tr>\n",
       "      <th>381104</th>\n",
       "      <td>381105.0</td>\n",
       "      <td>77159.58072</td>\n",
       "      <td>26.0</td>\n",
       "      <td>88.0</td>\n",
       "      <td>No</td>\n",
       "    </tr>\n",
       "    <tr>\n",
       "      <th>381105</th>\n",
       "      <td>381106.0</td>\n",
       "      <td>77159.58072</td>\n",
       "      <td>152.0</td>\n",
       "      <td>131.0</td>\n",
       "      <td>No</td>\n",
       "    </tr>\n",
       "    <tr>\n",
       "      <th>381106</th>\n",
       "      <td>381107.0</td>\n",
       "      <td>77159.58072</td>\n",
       "      <td>160.0</td>\n",
       "      <td>161.0</td>\n",
       "      <td>No</td>\n",
       "    </tr>\n",
       "    <tr>\n",
       "      <th>381107</th>\n",
       "      <td>381108.0</td>\n",
       "      <td>77159.58072</td>\n",
       "      <td>124.0</td>\n",
       "      <td>74.0</td>\n",
       "      <td>No</td>\n",
       "    </tr>\n",
       "    <tr>\n",
       "      <th>381108</th>\n",
       "      <td>381109.0</td>\n",
       "      <td>77159.58072</td>\n",
       "      <td>26.0</td>\n",
       "      <td>237.0</td>\n",
       "      <td>No</td>\n",
       "    </tr>\n",
       "  </tbody>\n",
       "</table>\n",
       "<p>380722 rows × 5 columns</p>\n",
       "</div>"
      ],
      "text/plain": [
       "        Customer_id  Annual_premium_in_Rs  Sales_channel_code  Vintage  \\\n",
       "0               1.0           77159.58072                26.0    217.0   \n",
       "1               2.0           77159.58072                26.0    183.0   \n",
       "2               3.0           77159.58072                26.0     27.0   \n",
       "3               4.0           77159.58072               152.0    203.0   \n",
       "4               5.0           77159.58072               152.0     39.0   \n",
       "...             ...                   ...                 ...      ...   \n",
       "381104     381105.0           77159.58072                26.0     88.0   \n",
       "381105     381106.0           77159.58072               152.0    131.0   \n",
       "381106     381107.0           77159.58072               160.0    161.0   \n",
       "381107     381108.0           77159.58072               124.0     74.0   \n",
       "381108     381109.0           77159.58072                26.0    237.0   \n",
       "\n",
       "       Response  \n",
       "0           Yes  \n",
       "1            No  \n",
       "2           Yes  \n",
       "3            No  \n",
       "4            No  \n",
       "...         ...  \n",
       "381104       No  \n",
       "381105       No  \n",
       "381106       No  \n",
       "381107       No  \n",
       "381108       No  \n",
       "\n",
       "[380722 rows x 5 columns]"
      ]
     },
     "execution_count": 27,
     "metadata": {},
     "output_type": "execute_result"
    }
   ],
   "source": [
    "customer_data.drop_duplicates()\n",
    "new_policy_data.drop_duplicates()"
   ]
  },
  {
   "cell_type": "code",
   "execution_count": 28,
   "id": "0f624177",
   "metadata": {},
   "outputs": [
    {
     "data": {
      "text/html": [
       "<div>\n",
       "<style scoped>\n",
       "    .dataframe tbody tr th:only-of-type {\n",
       "        vertical-align: middle;\n",
       "    }\n",
       "\n",
       "    .dataframe tbody tr th {\n",
       "        vertical-align: top;\n",
       "    }\n",
       "\n",
       "    .dataframe thead th {\n",
       "        text-align: right;\n",
       "    }\n",
       "</style>\n",
       "<table border=\"1\" class=\"dataframe\">\n",
       "  <thead>\n",
       "    <tr style=\"text-align: right;\">\n",
       "      <th></th>\n",
       "      <th>Customer_id</th>\n",
       "      <th>Gender</th>\n",
       "      <th>Age</th>\n",
       "      <th>Driving_licence_present</th>\n",
       "      <th>Region_code</th>\n",
       "      <th>Previously_insured</th>\n",
       "      <th>Vehicle_age</th>\n",
       "      <th>Vehicle_damage</th>\n",
       "      <th>Annual_premium_in_Rs</th>\n",
       "      <th>Sales_channel_code</th>\n",
       "      <th>Vintage</th>\n",
       "      <th>Response</th>\n",
       "    </tr>\n",
       "  </thead>\n",
       "  <tbody>\n",
       "    <tr>\n",
       "      <th>0</th>\n",
       "      <td>1.0</td>\n",
       "      <td>MALE</td>\n",
       "      <td>44.0</td>\n",
       "      <td>YES</td>\n",
       "      <td>28.0</td>\n",
       "      <td>NO</td>\n",
       "      <td>&gt; 2 YEARS</td>\n",
       "      <td>YES</td>\n",
       "      <td>77159.58072</td>\n",
       "      <td>26.0</td>\n",
       "      <td>217.0</td>\n",
       "      <td>Yes</td>\n",
       "    </tr>\n",
       "    <tr>\n",
       "      <th>1</th>\n",
       "      <td>2.0</td>\n",
       "      <td>MALE</td>\n",
       "      <td>76.0</td>\n",
       "      <td>YES</td>\n",
       "      <td>3.0</td>\n",
       "      <td>NO</td>\n",
       "      <td>1-2 YEAR</td>\n",
       "      <td>NO</td>\n",
       "      <td>77159.58072</td>\n",
       "      <td>26.0</td>\n",
       "      <td>183.0</td>\n",
       "      <td>No</td>\n",
       "    </tr>\n",
       "    <tr>\n",
       "      <th>2</th>\n",
       "      <td>3.0</td>\n",
       "      <td>MALE</td>\n",
       "      <td>47.0</td>\n",
       "      <td>YES</td>\n",
       "      <td>28.0</td>\n",
       "      <td>NO</td>\n",
       "      <td>&gt; 2 YEARS</td>\n",
       "      <td>YES</td>\n",
       "      <td>77159.58072</td>\n",
       "      <td>26.0</td>\n",
       "      <td>27.0</td>\n",
       "      <td>Yes</td>\n",
       "    </tr>\n",
       "    <tr>\n",
       "      <th>3</th>\n",
       "      <td>4.0</td>\n",
       "      <td>MALE</td>\n",
       "      <td>21.0</td>\n",
       "      <td>YES</td>\n",
       "      <td>11.0</td>\n",
       "      <td>YES</td>\n",
       "      <td>&lt; 1 YEAR</td>\n",
       "      <td>NO</td>\n",
       "      <td>77159.58072</td>\n",
       "      <td>152.0</td>\n",
       "      <td>203.0</td>\n",
       "      <td>No</td>\n",
       "    </tr>\n",
       "    <tr>\n",
       "      <th>4</th>\n",
       "      <td>5.0</td>\n",
       "      <td>FEMALE</td>\n",
       "      <td>29.0</td>\n",
       "      <td>YES</td>\n",
       "      <td>41.0</td>\n",
       "      <td>YES</td>\n",
       "      <td>&lt; 1 YEAR</td>\n",
       "      <td>NO</td>\n",
       "      <td>77159.58072</td>\n",
       "      <td>152.0</td>\n",
       "      <td>39.0</td>\n",
       "      <td>No</td>\n",
       "    </tr>\n",
       "    <tr>\n",
       "      <th>...</th>\n",
       "      <td>...</td>\n",
       "      <td>...</td>\n",
       "      <td>...</td>\n",
       "      <td>...</td>\n",
       "      <td>...</td>\n",
       "      <td>...</td>\n",
       "      <td>...</td>\n",
       "      <td>...</td>\n",
       "      <td>...</td>\n",
       "      <td>...</td>\n",
       "      <td>...</td>\n",
       "      <td>...</td>\n",
       "    </tr>\n",
       "    <tr>\n",
       "      <th>380331</th>\n",
       "      <td>381105.0</td>\n",
       "      <td>MALE</td>\n",
       "      <td>74.0</td>\n",
       "      <td>YES</td>\n",
       "      <td>26.0</td>\n",
       "      <td>YES</td>\n",
       "      <td>1-2 YEAR</td>\n",
       "      <td>NO</td>\n",
       "      <td>77159.58072</td>\n",
       "      <td>26.0</td>\n",
       "      <td>88.0</td>\n",
       "      <td>No</td>\n",
       "    </tr>\n",
       "    <tr>\n",
       "      <th>380332</th>\n",
       "      <td>381106.0</td>\n",
       "      <td>MALE</td>\n",
       "      <td>30.0</td>\n",
       "      <td>YES</td>\n",
       "      <td>37.0</td>\n",
       "      <td>YES</td>\n",
       "      <td>&lt; 1 YEAR</td>\n",
       "      <td>NO</td>\n",
       "      <td>77159.58072</td>\n",
       "      <td>152.0</td>\n",
       "      <td>131.0</td>\n",
       "      <td>No</td>\n",
       "    </tr>\n",
       "    <tr>\n",
       "      <th>380333</th>\n",
       "      <td>381107.0</td>\n",
       "      <td>MALE</td>\n",
       "      <td>21.0</td>\n",
       "      <td>YES</td>\n",
       "      <td>30.0</td>\n",
       "      <td>YES</td>\n",
       "      <td>&lt; 1 YEAR</td>\n",
       "      <td>NO</td>\n",
       "      <td>77159.58072</td>\n",
       "      <td>160.0</td>\n",
       "      <td>161.0</td>\n",
       "      <td>No</td>\n",
       "    </tr>\n",
       "    <tr>\n",
       "      <th>380334</th>\n",
       "      <td>381108.0</td>\n",
       "      <td>FEMALE</td>\n",
       "      <td>68.0</td>\n",
       "      <td>YES</td>\n",
       "      <td>14.0</td>\n",
       "      <td>NO</td>\n",
       "      <td>&gt; 2 YEARS</td>\n",
       "      <td>YES</td>\n",
       "      <td>77159.58072</td>\n",
       "      <td>124.0</td>\n",
       "      <td>74.0</td>\n",
       "      <td>No</td>\n",
       "    </tr>\n",
       "    <tr>\n",
       "      <th>380335</th>\n",
       "      <td>381109.0</td>\n",
       "      <td>MALE</td>\n",
       "      <td>46.0</td>\n",
       "      <td>YES</td>\n",
       "      <td>29.0</td>\n",
       "      <td>NO</td>\n",
       "      <td>1-2 YEAR</td>\n",
       "      <td>NO</td>\n",
       "      <td>77159.58072</td>\n",
       "      <td>26.0</td>\n",
       "      <td>237.0</td>\n",
       "      <td>No</td>\n",
       "    </tr>\n",
       "  </tbody>\n",
       "</table>\n",
       "<p>380336 rows × 12 columns</p>\n",
       "</div>"
      ],
      "text/plain": [
       "        Customer_id  Gender   Age Driving_licence_present  Region_code  \\\n",
       "0               1.0    MALE  44.0                     YES         28.0   \n",
       "1               2.0    MALE  76.0                     YES          3.0   \n",
       "2               3.0    MALE  47.0                     YES         28.0   \n",
       "3               4.0    MALE  21.0                     YES         11.0   \n",
       "4               5.0  FEMALE  29.0                     YES         41.0   \n",
       "...             ...     ...   ...                     ...          ...   \n",
       "380331     381105.0    MALE  74.0                     YES         26.0   \n",
       "380332     381106.0    MALE  30.0                     YES         37.0   \n",
       "380333     381107.0    MALE  21.0                     YES         30.0   \n",
       "380334     381108.0  FEMALE  68.0                     YES         14.0   \n",
       "380335     381109.0    MALE  46.0                     YES         29.0   \n",
       "\n",
       "       Previously_insured Vehicle_age Vehicle_damage  Annual_premium_in_Rs  \\\n",
       "0                      NO   > 2 YEARS            YES           77159.58072   \n",
       "1                      NO    1-2 YEAR             NO           77159.58072   \n",
       "2                      NO   > 2 YEARS            YES           77159.58072   \n",
       "3                     YES    < 1 YEAR             NO           77159.58072   \n",
       "4                     YES    < 1 YEAR             NO           77159.58072   \n",
       "...                   ...         ...            ...                   ...   \n",
       "380331                YES    1-2 YEAR             NO           77159.58072   \n",
       "380332                YES    < 1 YEAR             NO           77159.58072   \n",
       "380333                YES    < 1 YEAR             NO           77159.58072   \n",
       "380334                 NO   > 2 YEARS            YES           77159.58072   \n",
       "380335                 NO    1-2 YEAR             NO           77159.58072   \n",
       "\n",
       "        Sales_channel_code  Vintage Response  \n",
       "0                     26.0    217.0      Yes  \n",
       "1                     26.0    183.0       No  \n",
       "2                     26.0     27.0      Yes  \n",
       "3                    152.0    203.0       No  \n",
       "4                    152.0     39.0       No  \n",
       "...                    ...      ...      ...  \n",
       "380331                26.0     88.0       No  \n",
       "380332               152.0    131.0       No  \n",
       "380333               160.0    161.0       No  \n",
       "380334               124.0     74.0       No  \n",
       "380335                26.0    237.0       No  \n",
       "\n",
       "[380336 rows x 12 columns]"
      ]
     },
     "execution_count": 28,
     "metadata": {},
     "output_type": "execute_result"
    }
   ],
   "source": [
    "Master_table=pd.merge(customer_data,new_policy_data,on=\"Customer_id\")\n",
    "Master_table"
   ]
  },
  {
   "cell_type": "markdown",
   "id": "c278e10a",
   "metadata": {},
   "source": [
    "## 3.Analyzing the data"
   ]
  },
  {
   "cell_type": "code",
   "execution_count": 65,
   "id": "f5a61839",
   "metadata": {},
   "outputs": [
    {
     "data": {
      "image/png": "[encoded data removed]",
      "text/plain": [
       "<Figure size 720x504 with 3 Axes>"
      ]
     },
     "metadata": {
      "needs_background": "light"
     },
     "output_type": "display_data"
    }
   ],
   "source": [
    "data=Master_table[['Age','Annual_premium_in_Rs','Vintage']]\n",
    "fig = plt.figure(figsize=(10,7))\n",
    "plt.suptitle('Analyzing Numerical Columns',horizontalalignment=\"center\",fontstyle = \"normal\", fontsize = 24)\n",
    "for i in range(data.shape[1]):\n",
    "    plt.subplot(1,3 , i + 1)\n",
    "    f = plt.gca()\n",
    "    f.set_title(data.columns.values[i])\n",
    "    plt.hist(data.iloc[:, i], color = '#ec838a')\n",
    "plt.tight_layout(rect=[0, 0.03, 1, 0.95])"
   ]
  },
  {
   "cell_type": "code",
   "execution_count": 70,
   "id": "febec138",
   "metadata": {},
   "outputs": [
    {
     "data": {
      "image/png": "[encoded data removed]",
      "text/plain": [
       "<Figure size 1296x720 with 6 Axes>"
      ]
     },
     "metadata": {
      "needs_background": "light"
     },
     "output_type": "display_data"
    }
   ],
   "source": [
    "\n",
    "df=Master_table[['Gender','Driving_licence_present',\"Previously_insured\",'Vehicle_age','Vehicle_damage']]\n",
    "# List of columns to create bar charts for\n",
    "columns_to_plot = ['Gender', 'Driving_licence_present', 'Previously_insured', 'Vehicle_age', 'Vehicle_damage']\n",
    "\n",
    "# Create subplots for each column\n",
    "fig, axes = plt.subplots(nrows=2, ncols=3, figsize=(18,10))\n",
    "#fig.tight_layout(pad=4.0)\n",
    "plt.suptitle('Analyzing Categorical Columns',horizontalalignment=\"center\",fontstyle = \"normal\", fontsize = 24)\n",
    "# Iterate through columns and create bar charts with value labels\n",
    "for i, col in enumerate(columns_to_plot):\n",
    "    ax = axes[i // 3, i % 3]\n",
    "    value_counts = df[col].value_counts()\n",
    "    ax.bar(value_counts.index, value_counts.values, color='#7AC5CD')\n",
    "    ax.set_title(col)\n",
    "    \n",
    "    # Add value labels to the bars\n",
    "    for x, y in zip(value_counts.index, value_counts.values):\n",
    "        ax.text(x, y, str(y), ha='center', va='bottom')\n",
    "\n",
    "# Show the subplots\n",
    "plt.show()\n"
   ]
  },
  {
   "cell_type": "markdown",
   "id": "87b857fe",
   "metadata": {},
   "source": [
    "* Observations:\n",
    "  * Male customers are taking vehicle insurence more than female "
   ]
  },
  {
   "cell_type": "markdown",
   "id": "35a30758",
   "metadata": {},
   "source": [
    "## Finding the relation between variables"
   ]
  },
  {
   "cell_type": "code",
   "execution_count": 49,
   "id": "289b5c67",
   "metadata": {},
   "outputs": [
    {
     "data": {
      "text/plain": [
       "<AxesSubplot:>"
      ]
     },
     "execution_count": 49,
     "metadata": {},
     "output_type": "execute_result"
    },
    {
     "data": {
      "image/png": "[encoded data removed]",
      "text/plain": [
       "<Figure size 864x504 with 2 Axes>"
      ]
     },
     "metadata": {
      "needs_background": "light"
     },
     "output_type": "display_data"
    }
   ],
   "source": [
    "import seaborn as sns\n",
    "corr = Master_table.corr()\n",
    "plt.figure(figsize=(12,7))\n",
    "sns.heatmap(\n",
    "    corr, \n",
    "    vmin=-1, vmax=1, center=0,\n",
    "    cmap=sns.diverging_palette(20, 220, n=200),\n",
    "    square=True)"
   ]
  },
  {
   "cell_type": "markdown",
   "id": "3076c8ff",
   "metadata": {},
   "source": [
    "### 1. Finding the average annual premium of  gender"
   ]
  },
  {
   "cell_type": "code",
   "execution_count": 31,
   "id": "f962d97d",
   "metadata": {},
   "outputs": [
    {
     "data": {
      "text/plain": [
       "Gender\n",
       "FEMALE    77164.676374\n",
       "MALE      77153.574269\n",
       "Name: Annual_premium_in_Rs, dtype: float64"
      ]
     },
     "execution_count": 31,
     "metadata": {},
     "output_type": "execute_result"
    }
   ],
   "source": [
    "data=Master_table.groupby(['Gender'])[\"Annual_premium_in_Rs\"].mean()\n",
    "data"
   ]
  },
  {
   "cell_type": "code",
   "execution_count": 32,
   "id": "b244fbe8",
   "metadata": {},
   "outputs": [
    {
     "data": {
      "image/png": "[encoded data removed]",
      "text/plain": [
       "<Figure size 576x360 with 1 Axes>"
      ]
     },
     "metadata": {
      "needs_background": "light"
     },
     "output_type": "display_data"
    }
   ],
   "source": [
    "plt.figure(figsize=(8,5))\n",
    "ax=data.plot.bar(title=\"Gender vs Average annual premium \")\n",
    "for i, v in enumerate(data):\n",
    "    ax.text(i, v, str(v), ha='center', va='bottom')\n",
    "plt.show()"
   ]
  },
  {
   "cell_type": "markdown",
   "id": "23844066",
   "metadata": {},
   "source": [
    "* Observations\n",
    "  * although female customers lower than male customers\n",
    "  * Both female and male paying equal average annual premium"
   ]
  },
  {
   "cell_type": "markdown",
   "id": "687fcbf7",
   "metadata": {},
   "source": [
    "### 2.Finding relationship between age and annual premium with respect to vehicle_age"
   ]
  },
  {
   "cell_type": "code",
   "execution_count": 39,
   "id": "a71e44e1",
   "metadata": {},
   "outputs": [
    {
     "name": "stderr",
     "output_type": "stream",
     "text": [
      "C:\\Users\\saroj\\anaconda3\\lib\\site-packages\\IPython\\core\\pylabtools.py:151: UserWarning: Creating legend with loc=\"best\" can be slow with large amounts of data.\n",
      "  fig.canvas.print_figure(bytes_io, **kw)\n"
     ]
    },
    {
     "data": {
      "image/png": "[encoded data removed]",
      "text/plain": [
       "<Figure size 720x360 with 1 Axes>"
      ]
     },
     "metadata": {
      "needs_background": "light"
     },
     "output_type": "display_data"
    }
   ],
   "source": [
    "plt.figure(figsize=(10,5))\n",
    "sb.scatterplot(data=Master_table,x=\"Age\",y=\"Annual_premium_in_Rs\",hue=\"Vehicle_age\",size=\"Age\")\n",
    "plt.show()"
   ]
  },
  {
   "cell_type": "markdown",
   "id": "e95525c7",
   "metadata": {},
   "source": [
    "* Observations\n",
    "  * The Vehicle_age <1 year are the customers in the age between 20 to 33\n",
    "  * The vehicle_age 1-2 year are the customers in the age 34 to 80+ ,customers between 40 to 55 are paying high\n",
    "    annual_premium than others"
   ]
  },
  {
   "cell_type": "markdown",
   "id": "9d6ef03d",
   "metadata": {},
   "source": [
    "### 3. Finding the  average annual_premium by age"
   ]
  },
  {
   "cell_type": "code",
   "execution_count": 37,
   "id": "66d20d50",
   "metadata": {},
   "outputs": [
    {
     "data": {
      "text/plain": [
       "Age\n",
       "20.0    77127.449507\n",
       "21.0    77143.242579\n",
       "22.0    77162.438899\n",
       "23.0    77150.955286\n",
       "24.0    77213.332071\n",
       "            ...     \n",
       "81.0    76577.049610\n",
       "82.0    76777.629661\n",
       "83.0    77058.508869\n",
       "84.0    77159.580720\n",
       "85.0    76078.527927\n",
       "Name: Annual_premium_in_Rs, Length: 67, dtype: float64"
      ]
     },
     "execution_count": 37,
     "metadata": {},
     "output_type": "execute_result"
    }
   ],
   "source": [
    "data1=Master_table.groupby(['Age'])[\"Annual_premium_in_Rs\"].mean()\n",
    "data1"
   ]
  },
  {
   "cell_type": "code",
   "execution_count": 38,
   "id": "d1aa1756",
   "metadata": {},
   "outputs": [
    {
     "data": {
      "image/png": "[encoded data removed]",
      "text/plain": [
       "<Figure size 576x360 with 1 Axes>"
      ]
     },
     "metadata": {
      "needs_background": "light"
     },
     "output_type": "display_data"
    }
   ],
   "source": [
    "plt.figure(figsize=(8,5))\n",
    "data1.plot(title=\"Age vs Average annual premium\")\n",
    "plt.show()"
   ]
  },
  {
   "cell_type": "markdown",
   "id": "7c7c36eb",
   "metadata": {},
   "source": [
    "* Observations\n",
    "   * The older customers are having high average annual premium "
   ]
  },
  {
   "cell_type": "markdown",
   "id": "f062f6e9",
   "metadata": {},
   "source": [
    "### 4.Finding how many vehicles are damaged after they take the insurence"
   ]
  },
  {
   "cell_type": "code",
   "execution_count": 57,
   "id": "3fcd38c0",
   "metadata": {},
   "outputs": [
    {
     "data": {
      "text/plain": [
       "Vehicle_age  Vehicle_damage\n",
       "1-2 YEAR     YES               128102\n",
       "             NO                 71979\n",
       "< 1 YEAR     NO                116112\n",
       "             YES                48192\n",
       "> 2 YEARS    YES                15936\n",
       "             NO                    15\n",
       "Name: Vehicle_damage, dtype: int64"
      ]
     },
     "execution_count": 57,
     "metadata": {},
     "output_type": "execute_result"
    }
   ],
   "source": [
    "data4=Master_table.groupby('Vehicle_age')[\"Vehicle_damage\"].value_counts()\n",
    "data4"
   ]
  },
  {
   "cell_type": "code",
   "execution_count": 59,
   "id": "ae712e2b",
   "metadata": {},
   "outputs": [
    {
     "data": {
      "text/plain": [
       "<AxesSubplot:xlabel='Vehicle_age,Vehicle_damage'>"
      ]
     },
     "execution_count": 59,
     "metadata": {},
     "output_type": "execute_result"
    },
    {
     "data": {
      "image/png": "[encoded data removed]",
      "text/plain": [
       "<Figure size 576x360 with 1 Axes>"
      ]
     },
     "metadata": {
      "needs_background": "light"
     },
     "output_type": "display_data"
    }
   ],
   "source": [
    "plt.figure(figsize=(8,5))\n",
    "data4.plot.bar()"
   ]
  },
  {
   "cell_type": "markdown",
   "id": "0aaec81e",
   "metadata": {},
   "source": [
    "* Observations\n",
    "  * The vehicle-age between 1-2 years of the vehicles are highly damaging \n"
   ]
  },
  {
   "cell_type": "code",
   "execution_count": 44,
   "id": "4f82bcf2",
   "metadata": {},
   "outputs": [
    {
     "data": {
      "image/png": "[encoded data removed]",
      "text/plain": [
       "<Figure size 576x432 with 1 Axes>"
      ]
     },
     "metadata": {
      "needs_background": "light"
     },
     "output_type": "display_data"
    }
   ],
   "source": [
    "plt.figure(figsize=(8,6))\n",
    "sb.scatterplot(data=Master_table,x='Customer_id',y='Annual_premium_in_Rs')\n",
    "plt.show()"
   ]
  },
  {
   "cell_type": "code",
   "execution_count": null,
   "id": "64ea243f",
   "metadata": {},
   "outputs": [],
   "source": []
  }
 ],
 "metadata": {
  "kernelspec": {
   "display_name": "Python 3 (ipykernel)",
   "language": "python",
   "name": "python3"
  },
  "language_info": {
   "codemirror_mode": {
    "name": "ipython",
    "version": 3
   },
   "file_extension": ".py",
   "mimetype": "text/x-python",
   "name": "python",
   "nbconvert_exporter": "python",
   "pygments_lexer": "ipython3",
   "version": "3.9.7"
  }
 },
 "nbformat": 4,
 "nbformat_minor": 5
}
